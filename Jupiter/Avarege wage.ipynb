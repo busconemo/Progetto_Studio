{
 "cells": [
  {
   "cell_type": "markdown",
   "metadata": {},
   "source": [
    "# Avarege wage"
   ]
  },
  {
   "cell_type": "markdown",
   "metadata": {},
   "source": [
    "- original frequency:annual\n",
    "- amount in USD (level)"
   ]
  },
  {
   "cell_type": "code",
   "execution_count": 1,
   "metadata": {},
   "outputs": [
    {
     "ename": "SyntaxError",
     "evalue": "invalid syntax (<ipython-input-1-cd48a3ac3f43>, line 1)",
     "output_type": "error",
     "traceback": [
      "\u001b[1;36m  File \u001b[1;32m\"<ipython-input-1-cd48a3ac3f43>\"\u001b[1;36m, line \u001b[1;32m1\u001b[0m\n\u001b[1;33m    wage_db = pd.read_csv (r'C:\\Users\\busco\\OneDrive\\Documenti\\Python Scripts\\Repo_tassi_dec\\Progetto_Studio\\Data\\Average wages.csv')wage_db\u001b[0m\n\u001b[1;37m                                                                                                                                           ^\u001b[0m\n\u001b[1;31mSyntaxError\u001b[0m\u001b[1;31m:\u001b[0m invalid syntax\n"
     ]
    }
   ],
   "source": [
    "wage_db = pd.read_csv (r'C:\\Users\\busco\\OneDrive\\Documenti\\Python Scripts\\Repo_tassi_dec\\Progetto_Studio\\Data\\Average wages.csv')"
   ]
  },
  {
   "cell_type": "code",
   "execution_count": null,
   "metadata": {},
   "outputs": [],
   "source": [
    "wage_db_ita=wage_db[wage_db[\"LOCATION\"]==\"ITA\"]"
   ]
  }
 ],
 "metadata": {
  "kernelspec": {
   "display_name": "Python 3",
   "language": "python",
   "name": "python3"
  },
  "language_info": {
   "codemirror_mode": {
    "name": "ipython",
    "version": 3
   },
   "file_extension": ".py",
   "mimetype": "text/x-python",
   "name": "python",
   "nbconvert_exporter": "python",
   "pygments_lexer": "ipython3",
   "version": "3.7.6"
  }
 },
 "nbformat": 4,
 "nbformat_minor": 4
}
