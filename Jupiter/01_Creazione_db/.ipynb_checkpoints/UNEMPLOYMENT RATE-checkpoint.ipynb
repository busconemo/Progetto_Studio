{
 "cells": [
  {
   "cell_type": "code",
   "execution_count": 1,
   "metadata": {},
   "outputs": [],
   "source": [
    "# Importazione delle librerie necessarie\n",
    "import pandas as pd\n",
    "import numpy as np"
   ]
  },
  {
   "cell_type": "code",
   "execution_count": 2,
   "metadata": {},
   "outputs": [],
   "source": [
    "ur = pd.read_csv (r'C:\\Users\\busco\\OneDrive\\Documenti\\Python Scripts\\Repo_tassi_dec\\Progetto_Studio\\Data\\Predittori\\Unemployment rate.csv')"
   ]
  },
  {
   "cell_type": "code",
   "execution_count": 5,
   "metadata": {},
   "outputs": [
    {
     "name": "stdout",
     "output_type": "stream",
     "text": [
      "     LOCATION INDICATOR SUBJECT MEASURE FREQUENCY     TIME     Value  \\\n",
      "0         AUS       HUR     TOT   PC_LF         Q  1966-Q3   1.80000   \n",
      "1         AUS       HUR     TOT   PC_LF         Q  1966-Q4   1.70000   \n",
      "2         AUS       HUR     TOT   PC_LF         Q  1967-Q1   1.80000   \n",
      "3         AUS       HUR     TOT   PC_LF         Q  1967-Q2   2.00000   \n",
      "4         AUS       HUR     TOT   PC_LF         Q  1967-Q3   1.90000   \n",
      "...       ...       ...     ...     ...       ...      ...       ...   \n",
      "5432      CRI       HUR     TOT   PC_LF         Q  2020-Q2  23.41306   \n",
      "5433      CRI       HUR     TOT   PC_LF         Q  2020-Q3  21.73210   \n",
      "5434      CRI       HUR     TOT   PC_LF         Q  2020-Q4  20.22005   \n",
      "5435      CRI       HUR     TOT   PC_LF         Q  2021-Q1  18.88611   \n",
      "5436      CRI       HUR     TOT   PC_LF         Q  2021-Q2  17.82390   \n",
      "\n",
      "     Flag Codes  \n",
      "0           NaN  \n",
      "1           NaN  \n",
      "2           NaN  \n",
      "3           NaN  \n",
      "4           NaN  \n",
      "...         ...  \n",
      "5432        NaN  \n",
      "5433        NaN  \n",
      "5434        NaN  \n",
      "5435        NaN  \n",
      "5436        NaN  \n",
      "\n",
      "[5437 rows x 8 columns]\n"
     ]
    }
   ],
   "source": [
    "ur_df=pd.DataFrame(ur)\n",
    "print(ur_df)"
   ]
  },
  {
   "cell_type": "code",
   "execution_count": 9,
   "metadata": {},
   "outputs": [
    {
     "name": "stdout",
     "output_type": "stream",
     "text": [
      "['AUS' 'AUT' 'BEL' 'CAN' 'CZE' 'DNK' 'FIN' 'FRA' 'DEU' 'GRC' 'HUN' 'ISL'\n",
      " 'IRL' 'ITA' 'JPN' 'KOR' 'LUX' 'MEX' 'NLD' 'NZL' 'NOR' 'POL' 'PRT' 'SVK'\n",
      " 'ESP' 'SWE' 'CHE' 'TUR' 'GBR' 'USA' 'CHL' 'EST' 'ISR' 'SVN' 'OECD' 'G-7'\n",
      " 'EA19' 'LVA' 'LTU' 'COL' 'EU27_2020' 'CRI']\n"
     ]
    }
   ],
   "source": [
    "print(ur_df[\"LOCATION\"].unique())"
   ]
  },
  {
   "cell_type": "code",
   "execution_count": 12,
   "metadata": {},
   "outputs": [],
   "source": [
    "#selection of Italy\n",
    "ur_df=ur_df[ur_df[\"LOCATION\"]==\"ITA\"]"
   ]
  },
  {
   "cell_type": "code",
   "execution_count": 19,
   "metadata": {},
   "outputs": [
    {
     "name": "stdout",
     "output_type": "stream",
     "text": [
      "     LOCATION INDICATOR FREQUENCY     TIME      Value  QUARTER\n",
      "1855      ITA       HUR         Q  1983-Q1   7.066667        1\n",
      "1856      ITA       HUR         Q  1983-Q2   7.266667        2\n",
      "1857      ITA       HUR         Q  1983-Q3   7.433333        3\n",
      "1858      ITA       HUR         Q  1983-Q4   7.700000        4\n",
      "1859      ITA       HUR         Q  1984-Q1   7.866667        1\n",
      "...       ...       ...       ...      ...        ...      ...\n",
      "2004      ITA       HUR         Q  2020-Q2   8.466666        2\n",
      "2005      ITA       HUR         Q  2020-Q3  10.033330        3\n",
      "2006      ITA       HUR         Q  2020-Q4   9.833333        4\n",
      "2007      ITA       HUR         Q  2021-Q1  10.100000        1\n",
      "2008      ITA       HUR         Q  2021-Q2   9.800000        2\n",
      "\n",
      "[154 rows x 6 columns]\n"
     ]
    }
   ],
   "source": [
    "ur_df[\"QUARTER\"]=ur_df[\"TIME\"].str[6:7].astype(int)\n",
    "ur_df.drop([\"Flag Codes\",\"SUBJECT\",\"MEASURE\"], axis=1, inplace=True)\n",
    "print(ur_df)"
   ]
  },
  {
   "cell_type": "code",
   "execution_count": 22,
   "metadata": {},
   "outputs": [
    {
     "data": {
      "text/html": [
       "<div>\n",
       "<style scoped>\n",
       "    .dataframe tbody tr th:only-of-type {\n",
       "        vertical-align: middle;\n",
       "    }\n",
       "\n",
       "    .dataframe tbody tr th {\n",
       "        vertical-align: top;\n",
       "    }\n",
       "\n",
       "    .dataframe thead th {\n",
       "        text-align: right;\n",
       "    }\n",
       "</style>\n",
       "<table border=\"1\" class=\"dataframe\">\n",
       "  <thead>\n",
       "    <tr style=\"text-align: right;\">\n",
       "      <th></th>\n",
       "      <th>LOCATION</th>\n",
       "      <th>INDICATOR</th>\n",
       "      <th>FREQUENCY</th>\n",
       "      <th>TIME</th>\n",
       "      <th>Value</th>\n",
       "      <th>QUARTER</th>\n",
       "    </tr>\n",
       "  </thead>\n",
       "  <tbody>\n",
       "  </tbody>\n",
       "</table>\n",
       "</div>"
      ],
      "text/plain": [
       "Empty DataFrame\n",
       "Columns: [LOCATION, INDICATOR, FREQUENCY, TIME, Value, QUARTER]\n",
       "Index: []"
      ]
     },
     "execution_count": 22,
     "metadata": {},
     "output_type": "execute_result"
    }
   ],
   "source": [
    "#check if there are duplicate in time\n",
    "ur_df[ur_df.duplicated('TIME')]"
   ]
  },
  {
   "cell_type": "code",
   "execution_count": 23,
   "metadata": {},
   "outputs": [],
   "source": [
    "#computation of the rate\n",
    "ur_df=ur_df.sort_values(['TIME'])\n",
    "ur_df['Previous Value'] = ur_df.sort_values('TIME').groupby('QUARTER')['Value'].shift(1) "
   ]
  },
  {
   "cell_type": "code",
   "execution_count": 24,
   "metadata": {},
   "outputs": [
    {
     "name": "stdout",
     "output_type": "stream",
     "text": [
      "     LOCATION INDICATOR FREQUENCY     TIME      Value  QUARTER  Previous Value\n",
      "1855      ITA       HUR         Q  1983-Q1   7.066667        1             NaN\n",
      "1856      ITA       HUR         Q  1983-Q2   7.266667        2             NaN\n",
      "1857      ITA       HUR         Q  1983-Q3   7.433333        3             NaN\n",
      "1858      ITA       HUR         Q  1983-Q4   7.700000        4             NaN\n",
      "1859      ITA       HUR         Q  1984-Q1   7.866667        1        7.066667\n",
      "...       ...       ...       ...      ...        ...      ...             ...\n",
      "2004      ITA       HUR         Q  2020-Q2   8.466666        2       10.066670\n",
      "2005      ITA       HUR         Q  2020-Q3  10.033330        3        9.700000\n",
      "2006      ITA       HUR         Q  2020-Q4   9.833333        4        9.866667\n",
      "2007      ITA       HUR         Q  2021-Q1  10.100000        1        8.900000\n",
      "2008      ITA       HUR         Q  2021-Q2   9.800000        2        8.466666\n",
      "\n",
      "[154 rows x 7 columns]\n"
     ]
    }
   ],
   "source": [
    "print(ur_df)"
   ]
  },
  {
   "cell_type": "code",
   "execution_count": 26,
   "metadata": {},
   "outputs": [
    {
     "name": "stdout",
     "output_type": "stream",
     "text": [
      "         TIME  QUARTER      Value        UR\n",
      "1859  1984-Q1        1   7.866667  1.113208\n",
      "1860  1984-Q2        2   7.833333  1.077982\n",
      "1861  1984-Q3        3   7.800000  1.049327\n",
      "1862  1984-Q4        4   7.833333  1.017316\n",
      "1863  1985-Q1        1   8.000000  1.016949\n",
      "...       ...      ...        ...       ...\n",
      "2004  2020-Q2        2   8.466666  0.841059\n",
      "2005  2020-Q3        3  10.033330  1.034364\n",
      "2006  2020-Q4        4   9.833333  0.996622\n",
      "2007  2021-Q1        1  10.100000  1.134831\n",
      "2008  2021-Q2        2   9.800000  1.157480\n",
      "\n",
      "[150 rows x 4 columns]\n"
     ]
    }
   ],
   "source": [
    "ur_df[\"UR\"]=ur_df[\"Value\"]/ur_df[\"Previous Value\"]\n",
    "ur_df2=ur_df[pd.notnull(ur_df[\"UR\"])]\n",
    "ur_df2=ur_df2[[\"TIME\",\"QUARTER\",\"Value\",\"UR\"]]\n",
    "print(ur_df2)"
   ]
  },
  {
   "cell_type": "code",
   "execution_count": 27,
   "metadata": {},
   "outputs": [],
   "source": [
    "ur_df2.to_pickle(r\"C:\\Users\\busco\\OneDrive\\Documenti\\Python Scripts\\Repo_tassi_dec\\Progetto_Studio\\Data\\DF_PKL\\ur_df.pkl\")"
   ]
  }
 ],
 "metadata": {
  "kernelspec": {
   "display_name": "Python 3",
   "language": "python",
   "name": "python3"
  },
  "language_info": {
   "codemirror_mode": {
    "name": "ipython",
    "version": 3
   },
   "file_extension": ".py",
   "mimetype": "text/x-python",
   "name": "python",
   "nbconvert_exporter": "python",
   "pygments_lexer": "ipython3",
   "version": "3.7.6"
  }
 },
 "nbformat": 4,
 "nbformat_minor": 4
}
